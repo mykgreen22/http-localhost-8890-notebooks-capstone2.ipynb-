{
 "cells": [
  {
   "cell_type": "code",
   "execution_count": 109,
   "id": "606bdd62",
   "metadata": {},
   "outputs": [],
   "source": [
    "import pandas as pd\n",
    "import numpy as np\n",
    "import seaborn as sns\n",
    "import matplotlib.pyplot as plt\n",
    "from sklearn.linear_model import LinearRegression\n",
    "import statsmodels.api as sm\n",
    "sns.set_style('darkgrid')\n",
    "import matplotlib as mpl\n",
    "mpl.rcParams['figure.figsize'] = (20,5)\n",
    "import warnings"
   ]
  },
  {
   "cell_type": "code",
   "execution_count": 106,
   "id": "f8d6139a",
   "metadata": {},
   "outputs": [],
   "source": [
    "df_hpd=pd.read_csv('Order_to_Repair_Vacate_Orders.csv')"
   ]
  },
  {
   "cell_type": "code",
   "execution_count": 110,
   "id": "5f75d6cf",
   "metadata": {},
   "outputs": [
    {
     "data": {
      "text/html": [
       "<div>\n",
       "<style scoped>\n",
       "    .dataframe tbody tr th:only-of-type {\n",
       "        vertical-align: middle;\n",
       "    }\n",
       "\n",
       "    .dataframe tbody tr th {\n",
       "        vertical-align: top;\n",
       "    }\n",
       "\n",
       "    .dataframe thead th {\n",
       "        text-align: right;\n",
       "    }\n",
       "</style>\n",
       "<table border=\"1\" class=\"dataframe\">\n",
       "  <thead>\n",
       "    <tr style=\"text-align: right;\">\n",
       "      <th></th>\n",
       "      <th>BUILDING ID</th>\n",
       "      <th>REGISTRATION ID</th>\n",
       "      <th>BOROUGH</th>\n",
       "      <th>NUMBER</th>\n",
       "      <th>STREET</th>\n",
       "      <th>VACATE ORDER NUMBER</th>\n",
       "      <th>PRIMARY VACATE REASON</th>\n",
       "      <th>VACATE TYPE</th>\n",
       "      <th>VACATE EFFECTIVE DATE</th>\n",
       "      <th>RESCIND DATE</th>\n",
       "      <th>NUMBER OF VACATED UNITS</th>\n",
       "      <th>POSTCODE</th>\n",
       "      <th>LATITUDE</th>\n",
       "      <th>LONGITUDE</th>\n",
       "      <th>COMMUNITY BOARD</th>\n",
       "      <th>COUNCIL DISTRICT</th>\n",
       "      <th>CENSUS TRACT</th>\n",
       "      <th>BIN</th>\n",
       "      <th>BBL</th>\n",
       "      <th>NTA</th>\n",
       "    </tr>\n",
       "  </thead>\n",
       "  <tbody>\n",
       "    <tr>\n",
       "      <th>0</th>\n",
       "      <td>896801</td>\n",
       "      <td>381897</td>\n",
       "      <td>BK</td>\n",
       "      <td>1662</td>\n",
       "      <td>DEAN STREET</td>\n",
       "      <td>100282</td>\n",
       "      <td>Illegal Occupancy</td>\n",
       "      <td>Partial</td>\n",
       "      <td>11/23/2012</td>\n",
       "      <td>NaN</td>\n",
       "      <td>1</td>\n",
       "      <td>11213.0</td>\n",
       "      <td>40.67592</td>\n",
       "      <td>-73.93257</td>\n",
       "      <td>8.0</td>\n",
       "      <td>36.0</td>\n",
       "      <td>309.0</td>\n",
       "      <td>3392424.0</td>\n",
       "      <td>3.013480e+09</td>\n",
       "      <td>Crown Heights North                           ...</td>\n",
       "    </tr>\n",
       "    <tr>\n",
       "      <th>1</th>\n",
       "      <td>90265</td>\n",
       "      <td>200893</td>\n",
       "      <td>BX</td>\n",
       "      <td>3414</td>\n",
       "      <td>KNOX PLACE</td>\n",
       "      <td>142395</td>\n",
       "      <td>Fire Damage</td>\n",
       "      <td>Partial</td>\n",
       "      <td>1/10/2018</td>\n",
       "      <td>9/12/2018</td>\n",
       "      <td>7</td>\n",
       "      <td>10467.0</td>\n",
       "      <td>40.88172</td>\n",
       "      <td>-73.88373</td>\n",
       "      <td>7.0</td>\n",
       "      <td>11.0</td>\n",
       "      <td>421.0</td>\n",
       "      <td>2017700.0</td>\n",
       "      <td>2.033240e+09</td>\n",
       "      <td>Norwood</td>\n",
       "    </tr>\n",
       "    <tr>\n",
       "      <th>2</th>\n",
       "      <td>688955</td>\n",
       "      <td>0</td>\n",
       "      <td>QN</td>\n",
       "      <td>14-19</td>\n",
       "      <td>POINT BREEZE PLACE</td>\n",
       "      <td>145612</td>\n",
       "      <td>Illegal Occupancy</td>\n",
       "      <td>Partial</td>\n",
       "      <td>9/26/2018</td>\n",
       "      <td>NaN</td>\n",
       "      <td>1</td>\n",
       "      <td>11691.0</td>\n",
       "      <td>40.61110</td>\n",
       "      <td>-73.77100</td>\n",
       "      <td>14.0</td>\n",
       "      <td>31.0</td>\n",
       "      <td>100801.0</td>\n",
       "      <td>4300123.0</td>\n",
       "      <td>4.157020e+09</td>\n",
       "      <td>Far Rockaway-Bayswater</td>\n",
       "    </tr>\n",
       "    <tr>\n",
       "      <th>3</th>\n",
       "      <td>361981</td>\n",
       "      <td>0</td>\n",
       "      <td>BK</td>\n",
       "      <td>148</td>\n",
       "      <td>RIDGEWOOD AVENUE</td>\n",
       "      <td>145817</td>\n",
       "      <td>Illegal Occupancy</td>\n",
       "      <td>Partial</td>\n",
       "      <td>9/27/2018</td>\n",
       "      <td>NaN</td>\n",
       "      <td>1</td>\n",
       "      <td>11208.0</td>\n",
       "      <td>40.68302</td>\n",
       "      <td>-73.88331</td>\n",
       "      <td>5.0</td>\n",
       "      <td>37.0</td>\n",
       "      <td>117202.0</td>\n",
       "      <td>3087219.0</td>\n",
       "      <td>3.039280e+09</td>\n",
       "      <td>Cypress Hills-City Line</td>\n",
       "    </tr>\n",
       "    <tr>\n",
       "      <th>4</th>\n",
       "      <td>517813</td>\n",
       "      <td>0</td>\n",
       "      <td>QN</td>\n",
       "      <td>127-11</td>\n",
       "      <td>107 AVENUE</td>\n",
       "      <td>134634</td>\n",
       "      <td>Illegal Occupancy</td>\n",
       "      <td>Partial</td>\n",
       "      <td>1/13/2017</td>\n",
       "      <td>NaN</td>\n",
       "      <td>1</td>\n",
       "      <td>11419.0</td>\n",
       "      <td>40.68627</td>\n",
       "      <td>-73.81648</td>\n",
       "      <td>10.0</td>\n",
       "      <td>28.0</td>\n",
       "      <td>15802.0</td>\n",
       "      <td>4204732.0</td>\n",
       "      <td>4.095810e+09</td>\n",
       "      <td>South Ozone Park</td>\n",
       "    </tr>\n",
       "  </tbody>\n",
       "</table>\n",
       "</div>"
      ],
      "text/plain": [
       "   BUILDING ID  REGISTRATION ID BOROUGH  NUMBER              STREET  \\\n",
       "0       896801           381897      BK    1662         DEAN STREET   \n",
       "1        90265           200893      BX    3414          KNOX PLACE   \n",
       "2       688955                0      QN   14-19  POINT BREEZE PLACE   \n",
       "3       361981                0      BK     148    RIDGEWOOD AVENUE   \n",
       "4       517813                0      QN  127-11          107 AVENUE   \n",
       "\n",
       "   VACATE ORDER NUMBER PRIMARY VACATE REASON VACATE TYPE  \\\n",
       "0               100282     Illegal Occupancy     Partial   \n",
       "1               142395           Fire Damage     Partial   \n",
       "2               145612     Illegal Occupancy     Partial   \n",
       "3               145817     Illegal Occupancy     Partial   \n",
       "4               134634     Illegal Occupancy     Partial   \n",
       "\n",
       "  VACATE EFFECTIVE DATE RESCIND DATE  NUMBER OF VACATED UNITS  POSTCODE  \\\n",
       "0            11/23/2012          NaN                        1   11213.0   \n",
       "1             1/10/2018    9/12/2018                        7   10467.0   \n",
       "2             9/26/2018          NaN                        1   11691.0   \n",
       "3             9/27/2018          NaN                        1   11208.0   \n",
       "4             1/13/2017          NaN                        1   11419.0   \n",
       "\n",
       "   LATITUDE  LONGITUDE  COMMUNITY BOARD  COUNCIL DISTRICT  CENSUS TRACT  \\\n",
       "0  40.67592  -73.93257              8.0              36.0         309.0   \n",
       "1  40.88172  -73.88373              7.0              11.0         421.0   \n",
       "2  40.61110  -73.77100             14.0              31.0      100801.0   \n",
       "3  40.68302  -73.88331              5.0              37.0      117202.0   \n",
       "4  40.68627  -73.81648             10.0              28.0       15802.0   \n",
       "\n",
       "         BIN           BBL                                                NTA  \n",
       "0  3392424.0  3.013480e+09  Crown Heights North                           ...  \n",
       "1  2017700.0  2.033240e+09                                            Norwood  \n",
       "2  4300123.0  4.157020e+09                             Far Rockaway-Bayswater  \n",
       "3  3087219.0  3.039280e+09                            Cypress Hills-City Line  \n",
       "4  4204732.0  4.095810e+09                                   South Ozone Park  "
      ]
     },
     "execution_count": 110,
     "metadata": {},
     "output_type": "execute_result"
    }
   ],
   "source": [
    "df_hpd.head()"
   ]
  },
  {
   "cell_type": "code",
   "execution_count": 111,
   "id": "5cb5c744",
   "metadata": {},
   "outputs": [
    {
     "data": {
      "text/html": [
       "<div>\n",
       "<style scoped>\n",
       "    .dataframe tbody tr th:only-of-type {\n",
       "        vertical-align: middle;\n",
       "    }\n",
       "\n",
       "    .dataframe tbody tr th {\n",
       "        vertical-align: top;\n",
       "    }\n",
       "\n",
       "    .dataframe thead th {\n",
       "        text-align: right;\n",
       "    }\n",
       "</style>\n",
       "<table border=\"1\" class=\"dataframe\">\n",
       "  <thead>\n",
       "    <tr style=\"text-align: right;\">\n",
       "      <th></th>\n",
       "      <th>BUILDING ID</th>\n",
       "      <th>REGISTRATION ID</th>\n",
       "      <th>BOROUGH</th>\n",
       "      <th>NUMBER</th>\n",
       "      <th>STREET</th>\n",
       "      <th>VACATE ORDER NUMBER</th>\n",
       "      <th>PRIMARY VACATE REASON</th>\n",
       "      <th>VACATE TYPE</th>\n",
       "      <th>VACATE EFFECTIVE DATE</th>\n",
       "      <th>RESCIND DATE</th>\n",
       "      <th>NUMBER OF VACATED UNITS</th>\n",
       "      <th>POSTCODE</th>\n",
       "      <th>LATITUDE</th>\n",
       "      <th>LONGITUDE</th>\n",
       "      <th>COMMUNITY BOARD</th>\n",
       "      <th>COUNCIL DISTRICT</th>\n",
       "      <th>CENSUS TRACT</th>\n",
       "      <th>BIN</th>\n",
       "      <th>BBL</th>\n",
       "      <th>NTA</th>\n",
       "    </tr>\n",
       "  </thead>\n",
       "  <tbody>\n",
       "    <tr>\n",
       "      <th>0</th>\n",
       "      <td>896801</td>\n",
       "      <td>381897</td>\n",
       "      <td>BK</td>\n",
       "      <td>1662</td>\n",
       "      <td>DEAN STREET</td>\n",
       "      <td>100282</td>\n",
       "      <td>Illegal Occupancy</td>\n",
       "      <td>Partial</td>\n",
       "      <td>11/23/2012</td>\n",
       "      <td>NaN</td>\n",
       "      <td>1</td>\n",
       "      <td>11213.0</td>\n",
       "      <td>40.67592</td>\n",
       "      <td>-73.93257</td>\n",
       "      <td>8.0</td>\n",
       "      <td>36.0</td>\n",
       "      <td>309.0</td>\n",
       "      <td>3392424.0</td>\n",
       "      <td>3.013480e+09</td>\n",
       "      <td>Crown Heights North                           ...</td>\n",
       "    </tr>\n",
       "    <tr>\n",
       "      <th>3481</th>\n",
       "      <td>385281</td>\n",
       "      <td>368743</td>\n",
       "      <td>BK</td>\n",
       "      <td>321</td>\n",
       "      <td>VAN SICLEN AVENUE</td>\n",
       "      <td>144915</td>\n",
       "      <td>Fire Damage</td>\n",
       "      <td>Partial</td>\n",
       "      <td>7/17/2018</td>\n",
       "      <td>NaN</td>\n",
       "      <td>1</td>\n",
       "      <td>11207.0</td>\n",
       "      <td>40.67208</td>\n",
       "      <td>-73.89015</td>\n",
       "      <td>5.0</td>\n",
       "      <td>37.0</td>\n",
       "      <td>1152.0</td>\n",
       "      <td>3089098.0</td>\n",
       "      <td>3.040100e+09</td>\n",
       "      <td>East New York                                 ...</td>\n",
       "    </tr>\n",
       "    <tr>\n",
       "      <th>3483</th>\n",
       "      <td>258700</td>\n",
       "      <td>313201</td>\n",
       "      <td>BK</td>\n",
       "      <td>209</td>\n",
       "      <td>EAST 34 STREET</td>\n",
       "      <td>136739</td>\n",
       "      <td>Fire Damage</td>\n",
       "      <td>Partial</td>\n",
       "      <td>4/18/2017</td>\n",
       "      <td>7/11/2018</td>\n",
       "      <td>1</td>\n",
       "      <td>11203.0</td>\n",
       "      <td>40.65192</td>\n",
       "      <td>-73.94579</td>\n",
       "      <td>17.0</td>\n",
       "      <td>40.0</td>\n",
       "      <td>816.0</td>\n",
       "      <td>3108694.0</td>\n",
       "      <td>3.048710e+09</td>\n",
       "      <td>East Flatbush-Farragut                        ...</td>\n",
       "    </tr>\n",
       "    <tr>\n",
       "      <th>3486</th>\n",
       "      <td>325104</td>\n",
       "      <td>0</td>\n",
       "      <td>BK</td>\n",
       "      <td>471</td>\n",
       "      <td>LEXINGTON AVENUE</td>\n",
       "      <td>94210</td>\n",
       "      <td>Fire Damage</td>\n",
       "      <td>Entire Building</td>\n",
       "      <td>3/19/2012</td>\n",
       "      <td>1/30/2019</td>\n",
       "      <td>9</td>\n",
       "      <td>11221.0</td>\n",
       "      <td>40.68857</td>\n",
       "      <td>-73.94325</td>\n",
       "      <td>3.0</td>\n",
       "      <td>36.0</td>\n",
       "      <td>263.0</td>\n",
       "      <td>3050485.0</td>\n",
       "      <td>3.018000e+09</td>\n",
       "      <td>Bedford</td>\n",
       "    </tr>\n",
       "    <tr>\n",
       "      <th>3488</th>\n",
       "      <td>310574</td>\n",
       "      <td>820821</td>\n",
       "      <td>BK</td>\n",
       "      <td>680</td>\n",
       "      <td>HENDRIX STREET</td>\n",
       "      <td>135188</td>\n",
       "      <td>Habitability</td>\n",
       "      <td>Entire Building</td>\n",
       "      <td>1/17/2017</td>\n",
       "      <td>7/27/2020</td>\n",
       "      <td>5</td>\n",
       "      <td>11207.0</td>\n",
       "      <td>40.66491</td>\n",
       "      <td>-73.88740</td>\n",
       "      <td>5.0</td>\n",
       "      <td>42.0</td>\n",
       "      <td>1124.0</td>\n",
       "      <td>3090699.0</td>\n",
       "      <td>3.040880e+09</td>\n",
       "      <td>East New York</td>\n",
       "    </tr>\n",
       "    <tr>\n",
       "      <th>3684</th>\n",
       "      <td>398859</td>\n",
       "      <td>366816</td>\n",
       "      <td>BK</td>\n",
       "      <td>678</td>\n",
       "      <td>WYONA STREET</td>\n",
       "      <td>134493</td>\n",
       "      <td>Illegal Occupancy</td>\n",
       "      <td>Partial</td>\n",
       "      <td>12/15/2016</td>\n",
       "      <td>NaN</td>\n",
       "      <td>1</td>\n",
       "      <td>11207.0</td>\n",
       "      <td>40.66192</td>\n",
       "      <td>-73.88990</td>\n",
       "      <td>5.0</td>\n",
       "      <td>42.0</td>\n",
       "      <td>1128.0</td>\n",
       "      <td>3096592.0</td>\n",
       "      <td>3.043010e+09</td>\n",
       "      <td>East New York (Pennsylvania Ave)              ...</td>\n",
       "    </tr>\n",
       "    <tr>\n",
       "      <th>3685</th>\n",
       "      <td>398782</td>\n",
       "      <td>327442</td>\n",
       "      <td>BK</td>\n",
       "      <td>499</td>\n",
       "      <td>WYONA STREET</td>\n",
       "      <td>141165</td>\n",
       "      <td>Illegal Occupancy</td>\n",
       "      <td>Partial</td>\n",
       "      <td>11/9/2017</td>\n",
       "      <td>NaN</td>\n",
       "      <td>1</td>\n",
       "      <td>11207.0</td>\n",
       "      <td>40.66623</td>\n",
       "      <td>-73.89148</td>\n",
       "      <td>5.0</td>\n",
       "      <td>42.0</td>\n",
       "      <td>1126.0</td>\n",
       "      <td>3084752.0</td>\n",
       "      <td>3.038090e+09</td>\n",
       "      <td>East New York (Pennsylvania Ave)              ...</td>\n",
       "    </tr>\n",
       "    <tr>\n",
       "      <th>3686</th>\n",
       "      <td>398782</td>\n",
       "      <td>327442</td>\n",
       "      <td>BK</td>\n",
       "      <td>499</td>\n",
       "      <td>WYONA STREET</td>\n",
       "      <td>140610</td>\n",
       "      <td>Illegal Occupancy</td>\n",
       "      <td>Partial</td>\n",
       "      <td>10/2/2017</td>\n",
       "      <td>NaN</td>\n",
       "      <td>1</td>\n",
       "      <td>11207.0</td>\n",
       "      <td>40.66623</td>\n",
       "      <td>-73.89148</td>\n",
       "      <td>5.0</td>\n",
       "      <td>42.0</td>\n",
       "      <td>1126.0</td>\n",
       "      <td>3084752.0</td>\n",
       "      <td>3.038090e+09</td>\n",
       "      <td>East New York (Pennsylvania Ave)              ...</td>\n",
       "    </tr>\n",
       "    <tr>\n",
       "      <th>3687</th>\n",
       "      <td>398782</td>\n",
       "      <td>327442</td>\n",
       "      <td>BK</td>\n",
       "      <td>499</td>\n",
       "      <td>WYONA STREET</td>\n",
       "      <td>121003</td>\n",
       "      <td>Illegal Occupancy</td>\n",
       "      <td>Partial</td>\n",
       "      <td>2/1/2015</td>\n",
       "      <td>NaN</td>\n",
       "      <td>5</td>\n",
       "      <td>11207.0</td>\n",
       "      <td>40.66623</td>\n",
       "      <td>-73.89148</td>\n",
       "      <td>5.0</td>\n",
       "      <td>42.0</td>\n",
       "      <td>1126.0</td>\n",
       "      <td>3084752.0</td>\n",
       "      <td>3.038090e+09</td>\n",
       "      <td>East New York (Pennsylvania Ave)              ...</td>\n",
       "    </tr>\n",
       "    <tr>\n",
       "      <th>3480</th>\n",
       "      <td>351487</td>\n",
       "      <td>0</td>\n",
       "      <td>BK</td>\n",
       "      <td>1310</td>\n",
       "      <td>PARK PLACE</td>\n",
       "      <td>154938</td>\n",
       "      <td>Illegal Occupancy</td>\n",
       "      <td>Partial</td>\n",
       "      <td>7/22/2020</td>\n",
       "      <td>NaN</td>\n",
       "      <td>1</td>\n",
       "      <td>11213.0</td>\n",
       "      <td>40.67256</td>\n",
       "      <td>-73.93426</td>\n",
       "      <td>8.0</td>\n",
       "      <td>36.0</td>\n",
       "      <td>345.0</td>\n",
       "      <td>3036437.0</td>\n",
       "      <td>3.013710e+09</td>\n",
       "      <td>Crown Heights North</td>\n",
       "    </tr>\n",
       "  </tbody>\n",
       "</table>\n",
       "</div>"
      ],
      "text/plain": [
       "      BUILDING ID  REGISTRATION ID BOROUGH NUMBER             STREET  \\\n",
       "0          896801           381897      BK   1662        DEAN STREET   \n",
       "3481       385281           368743      BK    321  VAN SICLEN AVENUE   \n",
       "3483       258700           313201      BK    209     EAST 34 STREET   \n",
       "3486       325104                0      BK    471   LEXINGTON AVENUE   \n",
       "3488       310574           820821      BK    680     HENDRIX STREET   \n",
       "3684       398859           366816      BK    678       WYONA STREET   \n",
       "3685       398782           327442      BK    499       WYONA STREET   \n",
       "3686       398782           327442      BK    499       WYONA STREET   \n",
       "3687       398782           327442      BK    499       WYONA STREET   \n",
       "3480       351487                0      BK   1310         PARK PLACE   \n",
       "\n",
       "      VACATE ORDER NUMBER PRIMARY VACATE REASON      VACATE TYPE  \\\n",
       "0                  100282     Illegal Occupancy          Partial   \n",
       "3481               144915           Fire Damage          Partial   \n",
       "3483               136739           Fire Damage          Partial   \n",
       "3486                94210           Fire Damage  Entire Building   \n",
       "3488               135188          Habitability  Entire Building   \n",
       "3684               134493     Illegal Occupancy          Partial   \n",
       "3685               141165     Illegal Occupancy          Partial   \n",
       "3686               140610     Illegal Occupancy          Partial   \n",
       "3687               121003     Illegal Occupancy          Partial   \n",
       "3480               154938     Illegal Occupancy          Partial   \n",
       "\n",
       "     VACATE EFFECTIVE DATE RESCIND DATE  NUMBER OF VACATED UNITS  POSTCODE  \\\n",
       "0               11/23/2012          NaN                        1   11213.0   \n",
       "3481             7/17/2018          NaN                        1   11207.0   \n",
       "3483             4/18/2017    7/11/2018                        1   11203.0   \n",
       "3486             3/19/2012    1/30/2019                        9   11221.0   \n",
       "3488             1/17/2017    7/27/2020                        5   11207.0   \n",
       "3684            12/15/2016          NaN                        1   11207.0   \n",
       "3685             11/9/2017          NaN                        1   11207.0   \n",
       "3686             10/2/2017          NaN                        1   11207.0   \n",
       "3687              2/1/2015          NaN                        5   11207.0   \n",
       "3480             7/22/2020          NaN                        1   11213.0   \n",
       "\n",
       "      LATITUDE  LONGITUDE  COMMUNITY BOARD  COUNCIL DISTRICT  CENSUS TRACT  \\\n",
       "0     40.67592  -73.93257              8.0              36.0         309.0   \n",
       "3481  40.67208  -73.89015              5.0              37.0        1152.0   \n",
       "3483  40.65192  -73.94579             17.0              40.0         816.0   \n",
       "3486  40.68857  -73.94325              3.0              36.0         263.0   \n",
       "3488  40.66491  -73.88740              5.0              42.0        1124.0   \n",
       "3684  40.66192  -73.88990              5.0              42.0        1128.0   \n",
       "3685  40.66623  -73.89148              5.0              42.0        1126.0   \n",
       "3686  40.66623  -73.89148              5.0              42.0        1126.0   \n",
       "3687  40.66623  -73.89148              5.0              42.0        1126.0   \n",
       "3480  40.67256  -73.93426              8.0              36.0         345.0   \n",
       "\n",
       "            BIN           BBL  \\\n",
       "0     3392424.0  3.013480e+09   \n",
       "3481  3089098.0  3.040100e+09   \n",
       "3483  3108694.0  3.048710e+09   \n",
       "3486  3050485.0  3.018000e+09   \n",
       "3488  3090699.0  3.040880e+09   \n",
       "3684  3096592.0  3.043010e+09   \n",
       "3685  3084752.0  3.038090e+09   \n",
       "3686  3084752.0  3.038090e+09   \n",
       "3687  3084752.0  3.038090e+09   \n",
       "3480  3036437.0  3.013710e+09   \n",
       "\n",
       "                                                    NTA  \n",
       "0     Crown Heights North                           ...  \n",
       "3481  East New York                                 ...  \n",
       "3483  East Flatbush-Farragut                        ...  \n",
       "3486                                            Bedford  \n",
       "3488                                      East New York  \n",
       "3684  East New York (Pennsylvania Ave)              ...  \n",
       "3685  East New York (Pennsylvania Ave)              ...  \n",
       "3686  East New York (Pennsylvania Ave)              ...  \n",
       "3687  East New York (Pennsylvania Ave)              ...  \n",
       "3480                                Crown Heights North  "
      ]
     },
     "execution_count": 111,
     "metadata": {},
     "output_type": "execute_result"
    }
   ],
   "source": [
    "df_hpd.sort_values('BOROUGH',inplace=True)\n",
    "df_hpd.head(10)"
   ]
  },
  {
   "cell_type": "code",
   "execution_count": null,
   "id": "23dad64b",
   "metadata": {},
   "outputs": [],
   "source": []
  },
  {
   "cell_type": "code",
   "execution_count": 82,
   "id": "bee7d346",
   "metadata": {},
   "outputs": [
    {
     "name": "stdout",
     "output_type": "stream",
     "text": [
      "<class 'pandas.core.frame.DataFrame'>\n",
      "RangeIndex: 5769 entries, 0 to 5768\n",
      "Data columns (total 20 columns):\n",
      " #   Column                   Non-Null Count  Dtype  \n",
      "---  ------                   --------------  -----  \n",
      " 0   BUILDING ID              5769 non-null   int64  \n",
      " 1   REGISTRATION ID          5769 non-null   int64  \n",
      " 2   BOROUGH                  5769 non-null   object \n",
      " 3   NUMBER                   5769 non-null   object \n",
      " 4   STREET                   5769 non-null   object \n",
      " 5   VACATE ORDER NUMBER      5769 non-null   int64  \n",
      " 6   PRIMARY VACATE REASON    5769 non-null   object \n",
      " 7   VACATE TYPE              5769 non-null   object \n",
      " 8   VACATE EFFECTIVE DATE    5769 non-null   object \n",
      " 9   RESCIND DATE             2269 non-null   object \n",
      " 10  NUMBER OF VACATED UNITS  5769 non-null   int64  \n",
      " 11  POSTCODE                 5768 non-null   float64\n",
      " 12  LATITUDE                 5768 non-null   float64\n",
      " 13  LONGITUDE                5768 non-null   float64\n",
      " 14  COMMUNITY BOARD          5768 non-null   float64\n",
      " 15  COUNCIL DISTRICT         5768 non-null   float64\n",
      " 16  CENSUS TRACT             5768 non-null   float64\n",
      " 17  BIN                      5757 non-null   float64\n",
      " 18  BBL                      5757 non-null   float64\n",
      " 19  NTA                      5768 non-null   object \n",
      "dtypes: float64(8), int64(4), object(8)\n",
      "memory usage: 901.5+ KB\n"
     ]
    }
   ],
   "source": [
    "df_hpd.info()"
   ]
  },
  {
   "cell_type": "code",
   "execution_count": 21,
   "id": "2b5030f4",
   "metadata": {},
   "outputs": [
    {
     "data": {
      "text/plain": [
       "(5769, 20)"
      ]
     },
     "execution_count": 21,
     "metadata": {},
     "output_type": "execute_result"
    }
   ],
   "source": [
    "df_hpd.shape"
   ]
  },
  {
   "cell_type": "code",
   "execution_count": 22,
   "id": "353d7178",
   "metadata": {},
   "outputs": [
    {
     "data": {
      "text/html": [
       "<div>\n",
       "<style scoped>\n",
       "    .dataframe tbody tr th:only-of-type {\n",
       "        vertical-align: middle;\n",
       "    }\n",
       "\n",
       "    .dataframe tbody tr th {\n",
       "        vertical-align: top;\n",
       "    }\n",
       "\n",
       "    .dataframe thead th {\n",
       "        text-align: right;\n",
       "    }\n",
       "</style>\n",
       "<table border=\"1\" class=\"dataframe\">\n",
       "  <thead>\n",
       "    <tr style=\"text-align: right;\">\n",
       "      <th></th>\n",
       "      <th>BUILDING ID</th>\n",
       "      <th>REGISTRATION ID</th>\n",
       "      <th>VACATE ORDER NUMBER</th>\n",
       "      <th>NUMBER OF VACATED UNITS</th>\n",
       "      <th>POSTCODE</th>\n",
       "      <th>LATITUDE</th>\n",
       "      <th>LONGITUDE</th>\n",
       "      <th>COMMUNITY BOARD</th>\n",
       "      <th>COUNCIL DISTRICT</th>\n",
       "      <th>CENSUS TRACT</th>\n",
       "      <th>BIN</th>\n",
       "      <th>BBL</th>\n",
       "    </tr>\n",
       "  </thead>\n",
       "  <tbody>\n",
       "    <tr>\n",
       "      <th>count</th>\n",
       "      <td>5769.000000</td>\n",
       "      <td>5769.000000</td>\n",
       "      <td>5769.000000</td>\n",
       "      <td>5769.000000</td>\n",
       "      <td>5768.000000</td>\n",
       "      <td>5768.000000</td>\n",
       "      <td>5768.000000</td>\n",
       "      <td>5768.000000</td>\n",
       "      <td>5768.000000</td>\n",
       "      <td>5768.000000</td>\n",
       "      <td>5.757000e+03</td>\n",
       "      <td>5.757000e+03</td>\n",
       "    </tr>\n",
       "    <tr>\n",
       "      <th>mean</th>\n",
       "      <td>321349.291212</td>\n",
       "      <td>247150.294678</td>\n",
       "      <td>134541.083723</td>\n",
       "      <td>2.304559</td>\n",
       "      <td>10852.516123</td>\n",
       "      <td>40.741007</td>\n",
       "      <td>-73.903512</td>\n",
       "      <td>8.454230</td>\n",
       "      <td>25.587899</td>\n",
       "      <td>6668.203883</td>\n",
       "      <td>2.852231e+06</td>\n",
       "      <td>2.789157e+09</td>\n",
       "    </tr>\n",
       "    <tr>\n",
       "      <th>std</th>\n",
       "      <td>270274.083665</td>\n",
       "      <td>241385.808999</td>\n",
       "      <td>22692.874665</td>\n",
       "      <td>4.394666</td>\n",
       "      <td>509.138497</td>\n",
       "      <td>0.089132</td>\n",
       "      <td>0.074366</td>\n",
       "      <td>4.659703</td>\n",
       "      <td>13.540180</td>\n",
       "      <td>19003.635597</td>\n",
       "      <td>1.120704e+06</td>\n",
       "      <td>1.080310e+09</td>\n",
       "    </tr>\n",
       "    <tr>\n",
       "      <th>min</th>\n",
       "      <td>65.000000</td>\n",
       "      <td>0.000000</td>\n",
       "      <td>2327.000000</td>\n",
       "      <td>1.000000</td>\n",
       "      <td>10001.000000</td>\n",
       "      <td>40.517730</td>\n",
       "      <td>-74.233240</td>\n",
       "      <td>1.000000</td>\n",
       "      <td>1.000000</td>\n",
       "      <td>1.000000</td>\n",
       "      <td>1.000000e+06</td>\n",
       "      <td>1.000160e+09</td>\n",
       "    </tr>\n",
       "    <tr>\n",
       "      <th>25%</th>\n",
       "      <td>81656.000000</td>\n",
       "      <td>0.000000</td>\n",
       "      <td>117778.000000</td>\n",
       "      <td>1.000000</td>\n",
       "      <td>10457.000000</td>\n",
       "      <td>40.668807</td>\n",
       "      <td>-73.944465</td>\n",
       "      <td>4.000000</td>\n",
       "      <td>14.000000</td>\n",
       "      <td>206.000000</td>\n",
       "      <td>2.013558e+06</td>\n",
       "      <td>2.030880e+09</td>\n",
       "    </tr>\n",
       "    <tr>\n",
       "      <th>50%</th>\n",
       "      <td>271656.000000</td>\n",
       "      <td>207598.000000</td>\n",
       "      <td>135552.000000</td>\n",
       "      <td>1.000000</td>\n",
       "      <td>11206.000000</td>\n",
       "      <td>40.715460</td>\n",
       "      <td>-73.908550</td>\n",
       "      <td>9.000000</td>\n",
       "      <td>27.000000</td>\n",
       "      <td>375.000000</td>\n",
       "      <td>3.060083e+06</td>\n",
       "      <td>3.018128e+09</td>\n",
       "    </tr>\n",
       "    <tr>\n",
       "      <th>75%</th>\n",
       "      <td>524139.000000</td>\n",
       "      <td>349063.000000</td>\n",
       "      <td>148553.000000</td>\n",
       "      <td>2.000000</td>\n",
       "      <td>11236.000000</td>\n",
       "      <td>40.830663</td>\n",
       "      <td>-73.863935</td>\n",
       "      <td>12.000000</td>\n",
       "      <td>37.000000</td>\n",
       "      <td>872.000000</td>\n",
       "      <td>4.024135e+06</td>\n",
       "      <td>4.010950e+09</td>\n",
       "    </tr>\n",
       "    <tr>\n",
       "      <th>max</th>\n",
       "      <td>999969.000000</td>\n",
       "      <td>970211.000000</td>\n",
       "      <td>196619.000000</td>\n",
       "      <td>133.000000</td>\n",
       "      <td>11694.000000</td>\n",
       "      <td>40.906780</td>\n",
       "      <td>-73.705740</td>\n",
       "      <td>18.000000</td>\n",
       "      <td>51.000000</td>\n",
       "      <td>157902.000000</td>\n",
       "      <td>5.167961e+06</td>\n",
       "      <td>5.080070e+09</td>\n",
       "    </tr>\n",
       "  </tbody>\n",
       "</table>\n",
       "</div>"
      ],
      "text/plain": [
       "         BUILDING ID  REGISTRATION ID  VACATE ORDER NUMBER  \\\n",
       "count    5769.000000      5769.000000          5769.000000   \n",
       "mean   321349.291212    247150.294678        134541.083723   \n",
       "std    270274.083665    241385.808999         22692.874665   \n",
       "min        65.000000         0.000000          2327.000000   \n",
       "25%     81656.000000         0.000000        117778.000000   \n",
       "50%    271656.000000    207598.000000        135552.000000   \n",
       "75%    524139.000000    349063.000000        148553.000000   \n",
       "max    999969.000000    970211.000000        196619.000000   \n",
       "\n",
       "       NUMBER OF VACATED UNITS      POSTCODE     LATITUDE    LONGITUDE  \\\n",
       "count              5769.000000   5768.000000  5768.000000  5768.000000   \n",
       "mean                  2.304559  10852.516123    40.741007   -73.903512   \n",
       "std                   4.394666    509.138497     0.089132     0.074366   \n",
       "min                   1.000000  10001.000000    40.517730   -74.233240   \n",
       "25%                   1.000000  10457.000000    40.668807   -73.944465   \n",
       "50%                   1.000000  11206.000000    40.715460   -73.908550   \n",
       "75%                   2.000000  11236.000000    40.830663   -73.863935   \n",
       "max                 133.000000  11694.000000    40.906780   -73.705740   \n",
       "\n",
       "       COMMUNITY BOARD  COUNCIL DISTRICT   CENSUS TRACT           BIN  \\\n",
       "count      5768.000000       5768.000000    5768.000000  5.757000e+03   \n",
       "mean          8.454230         25.587899    6668.203883  2.852231e+06   \n",
       "std           4.659703         13.540180   19003.635597  1.120704e+06   \n",
       "min           1.000000          1.000000       1.000000  1.000000e+06   \n",
       "25%           4.000000         14.000000     206.000000  2.013558e+06   \n",
       "50%           9.000000         27.000000     375.000000  3.060083e+06   \n",
       "75%          12.000000         37.000000     872.000000  4.024135e+06   \n",
       "max          18.000000         51.000000  157902.000000  5.167961e+06   \n",
       "\n",
       "                BBL  \n",
       "count  5.757000e+03  \n",
       "mean   2.789157e+09  \n",
       "std    1.080310e+09  \n",
       "min    1.000160e+09  \n",
       "25%    2.030880e+09  \n",
       "50%    3.018128e+09  \n",
       "75%    4.010950e+09  \n",
       "max    5.080070e+09  "
      ]
     },
     "execution_count": 22,
     "metadata": {},
     "output_type": "execute_result"
    }
   ],
   "source": [
    "df_hpd.describe()"
   ]
  },
  {
   "cell_type": "code",
   "execution_count": 23,
   "id": "c1550b9e",
   "metadata": {},
   "outputs": [
    {
     "data": {
      "text/html": [
       "<div>\n",
       "<style scoped>\n",
       "    .dataframe tbody tr th:only-of-type {\n",
       "        vertical-align: middle;\n",
       "    }\n",
       "\n",
       "    .dataframe tbody tr th {\n",
       "        vertical-align: top;\n",
       "    }\n",
       "\n",
       "    .dataframe thead th {\n",
       "        text-align: right;\n",
       "    }\n",
       "</style>\n",
       "<table border=\"1\" class=\"dataframe\">\n",
       "  <thead>\n",
       "    <tr style=\"text-align: right;\">\n",
       "      <th></th>\n",
       "      <th>BUILDING ID</th>\n",
       "      <th>REGISTRATION ID</th>\n",
       "      <th>BOROUGH</th>\n",
       "      <th>NUMBER</th>\n",
       "      <th>STREET</th>\n",
       "      <th>VACATE ORDER NUMBER</th>\n",
       "      <th>PRIMARY VACATE REASON</th>\n",
       "      <th>VACATE TYPE</th>\n",
       "      <th>VACATE EFFECTIVE DATE</th>\n",
       "      <th>RESCIND DATE</th>\n",
       "      <th>NUMBER OF VACATED UNITS</th>\n",
       "      <th>POSTCODE</th>\n",
       "      <th>LATITUDE</th>\n",
       "      <th>LONGITUDE</th>\n",
       "      <th>COMMUNITY BOARD</th>\n",
       "      <th>COUNCIL DISTRICT</th>\n",
       "      <th>CENSUS TRACT</th>\n",
       "      <th>BIN</th>\n",
       "      <th>BBL</th>\n",
       "      <th>NTA</th>\n",
       "    </tr>\n",
       "  </thead>\n",
       "  <tbody>\n",
       "    <tr>\n",
       "      <th>0</th>\n",
       "      <td>896801</td>\n",
       "      <td>381897</td>\n",
       "      <td>BK</td>\n",
       "      <td>1662</td>\n",
       "      <td>DEAN STREET</td>\n",
       "      <td>100282</td>\n",
       "      <td>Illegal Occupancy</td>\n",
       "      <td>Partial</td>\n",
       "      <td>11/23/2012</td>\n",
       "      <td>NaN</td>\n",
       "      <td>1</td>\n",
       "      <td>11213.0</td>\n",
       "      <td>40.67592</td>\n",
       "      <td>-73.93257</td>\n",
       "      <td>8.0</td>\n",
       "      <td>36.0</td>\n",
       "      <td>309.0</td>\n",
       "      <td>3392424.0</td>\n",
       "      <td>3.013480e+09</td>\n",
       "      <td>Crown Heights North                           ...</td>\n",
       "    </tr>\n",
       "    <tr>\n",
       "      <th>1</th>\n",
       "      <td>90265</td>\n",
       "      <td>200893</td>\n",
       "      <td>BX</td>\n",
       "      <td>3414</td>\n",
       "      <td>KNOX PLACE</td>\n",
       "      <td>142395</td>\n",
       "      <td>Fire Damage</td>\n",
       "      <td>Partial</td>\n",
       "      <td>1/10/2018</td>\n",
       "      <td>9/12/2018</td>\n",
       "      <td>7</td>\n",
       "      <td>10467.0</td>\n",
       "      <td>40.88172</td>\n",
       "      <td>-73.88373</td>\n",
       "      <td>7.0</td>\n",
       "      <td>11.0</td>\n",
       "      <td>421.0</td>\n",
       "      <td>2017700.0</td>\n",
       "      <td>2.033240e+09</td>\n",
       "      <td>Norwood</td>\n",
       "    </tr>\n",
       "    <tr>\n",
       "      <th>2</th>\n",
       "      <td>688955</td>\n",
       "      <td>0</td>\n",
       "      <td>QN</td>\n",
       "      <td>14-19</td>\n",
       "      <td>POINT BREEZE PLACE</td>\n",
       "      <td>145612</td>\n",
       "      <td>Illegal Occupancy</td>\n",
       "      <td>Partial</td>\n",
       "      <td>9/26/2018</td>\n",
       "      <td>NaN</td>\n",
       "      <td>1</td>\n",
       "      <td>11691.0</td>\n",
       "      <td>40.61110</td>\n",
       "      <td>-73.77100</td>\n",
       "      <td>14.0</td>\n",
       "      <td>31.0</td>\n",
       "      <td>100801.0</td>\n",
       "      <td>4300123.0</td>\n",
       "      <td>4.157020e+09</td>\n",
       "      <td>Far Rockaway-Bayswater</td>\n",
       "    </tr>\n",
       "    <tr>\n",
       "      <th>3</th>\n",
       "      <td>361981</td>\n",
       "      <td>0</td>\n",
       "      <td>BK</td>\n",
       "      <td>148</td>\n",
       "      <td>RIDGEWOOD AVENUE</td>\n",
       "      <td>145817</td>\n",
       "      <td>Illegal Occupancy</td>\n",
       "      <td>Partial</td>\n",
       "      <td>9/27/2018</td>\n",
       "      <td>NaN</td>\n",
       "      <td>1</td>\n",
       "      <td>11208.0</td>\n",
       "      <td>40.68302</td>\n",
       "      <td>-73.88331</td>\n",
       "      <td>5.0</td>\n",
       "      <td>37.0</td>\n",
       "      <td>117202.0</td>\n",
       "      <td>3087219.0</td>\n",
       "      <td>3.039280e+09</td>\n",
       "      <td>Cypress Hills-City Line</td>\n",
       "    </tr>\n",
       "    <tr>\n",
       "      <th>4</th>\n",
       "      <td>517813</td>\n",
       "      <td>0</td>\n",
       "      <td>QN</td>\n",
       "      <td>127-11</td>\n",
       "      <td>107 AVENUE</td>\n",
       "      <td>134634</td>\n",
       "      <td>Illegal Occupancy</td>\n",
       "      <td>Partial</td>\n",
       "      <td>1/13/2017</td>\n",
       "      <td>NaN</td>\n",
       "      <td>1</td>\n",
       "      <td>11419.0</td>\n",
       "      <td>40.68627</td>\n",
       "      <td>-73.81648</td>\n",
       "      <td>10.0</td>\n",
       "      <td>28.0</td>\n",
       "      <td>15802.0</td>\n",
       "      <td>4204732.0</td>\n",
       "      <td>4.095810e+09</td>\n",
       "      <td>South Ozone Park</td>\n",
       "    </tr>\n",
       "  </tbody>\n",
       "</table>\n",
       "</div>"
      ],
      "text/plain": [
       "   BUILDING ID  REGISTRATION ID BOROUGH  NUMBER              STREET  \\\n",
       "0       896801           381897      BK    1662         DEAN STREET   \n",
       "1        90265           200893      BX    3414          KNOX PLACE   \n",
       "2       688955                0      QN   14-19  POINT BREEZE PLACE   \n",
       "3       361981                0      BK     148    RIDGEWOOD AVENUE   \n",
       "4       517813                0      QN  127-11          107 AVENUE   \n",
       "\n",
       "   VACATE ORDER NUMBER PRIMARY VACATE REASON VACATE TYPE  \\\n",
       "0               100282     Illegal Occupancy     Partial   \n",
       "1               142395           Fire Damage     Partial   \n",
       "2               145612     Illegal Occupancy     Partial   \n",
       "3               145817     Illegal Occupancy     Partial   \n",
       "4               134634     Illegal Occupancy     Partial   \n",
       "\n",
       "  VACATE EFFECTIVE DATE RESCIND DATE  NUMBER OF VACATED UNITS  POSTCODE  \\\n",
       "0            11/23/2012          NaN                        1   11213.0   \n",
       "1             1/10/2018    9/12/2018                        7   10467.0   \n",
       "2             9/26/2018          NaN                        1   11691.0   \n",
       "3             9/27/2018          NaN                        1   11208.0   \n",
       "4             1/13/2017          NaN                        1   11419.0   \n",
       "\n",
       "   LATITUDE  LONGITUDE  COMMUNITY BOARD  COUNCIL DISTRICT  CENSUS TRACT  \\\n",
       "0  40.67592  -73.93257              8.0              36.0         309.0   \n",
       "1  40.88172  -73.88373              7.0              11.0         421.0   \n",
       "2  40.61110  -73.77100             14.0              31.0      100801.0   \n",
       "3  40.68302  -73.88331              5.0              37.0      117202.0   \n",
       "4  40.68627  -73.81648             10.0              28.0       15802.0   \n",
       "\n",
       "         BIN           BBL                                                NTA  \n",
       "0  3392424.0  3.013480e+09  Crown Heights North                           ...  \n",
       "1  2017700.0  2.033240e+09                                            Norwood  \n",
       "2  4300123.0  4.157020e+09                             Far Rockaway-Bayswater  \n",
       "3  3087219.0  3.039280e+09                            Cypress Hills-City Line  \n",
       "4  4204732.0  4.095810e+09                                   South Ozone Park  "
      ]
     },
     "execution_count": 23,
     "metadata": {},
     "output_type": "execute_result"
    }
   ],
   "source": [
    "df_hpd.head()"
   ]
  },
  {
   "cell_type": "code",
   "execution_count": 24,
   "id": "83d4857d",
   "metadata": {},
   "outputs": [
    {
     "data": {
      "text/plain": [
       "BUILDING ID                   0\n",
       "REGISTRATION ID               0\n",
       "BOROUGH                       0\n",
       "NUMBER                        0\n",
       "STREET                        0\n",
       "VACATE ORDER NUMBER           0\n",
       "PRIMARY VACATE REASON         0\n",
       "VACATE TYPE                   0\n",
       "VACATE EFFECTIVE DATE         0\n",
       "RESCIND DATE               3500\n",
       "NUMBER OF VACATED UNITS       0\n",
       "POSTCODE                      1\n",
       "LATITUDE                      1\n",
       "LONGITUDE                     1\n",
       "COMMUNITY BOARD               1\n",
       "COUNCIL DISTRICT              1\n",
       "CENSUS TRACT                  1\n",
       "BIN                          12\n",
       "BBL                          12\n",
       "NTA                           1\n",
       "dtype: int64"
      ]
     },
     "execution_count": 24,
     "metadata": {},
     "output_type": "execute_result"
    }
   ],
   "source": [
    "df_hpd.isnull().sum()\n",
    "\n"
   ]
  },
  {
   "cell_type": "code",
   "execution_count": 25,
   "id": "b114361f",
   "metadata": {},
   "outputs": [
    {
     "data": {
      "text/plain": [
       "BUILDING ID                  int64\n",
       "REGISTRATION ID              int64\n",
       "BOROUGH                     object\n",
       "NUMBER                      object\n",
       "STREET                      object\n",
       "VACATE ORDER NUMBER          int64\n",
       "PRIMARY VACATE REASON       object\n",
       "VACATE TYPE                 object\n",
       "VACATE EFFECTIVE DATE       object\n",
       "RESCIND DATE                object\n",
       "NUMBER OF VACATED UNITS      int64\n",
       "POSTCODE                   float64\n",
       "LATITUDE                   float64\n",
       "LONGITUDE                  float64\n",
       "COMMUNITY BOARD            float64\n",
       "COUNCIL DISTRICT           float64\n",
       "CENSUS TRACT               float64\n",
       "BIN                        float64\n",
       "BBL                        float64\n",
       "NTA                         object\n",
       "dtype: object"
      ]
     },
     "execution_count": 25,
     "metadata": {},
     "output_type": "execute_result"
    }
   ],
   "source": [
    "df_hpd.dtypes"
   ]
  },
  {
   "cell_type": "code",
   "execution_count": 130,
   "id": "a28485d4",
   "metadata": {},
   "outputs": [
    {
     "name": "stdout",
     "output_type": "stream",
     "text": [
      "<class 'pandas.core.frame.DataFrame'>\n",
      "Int64Index: 5769 entries, 0 to 375\n",
      "Data columns (total 20 columns):\n",
      " #   Column                   Non-Null Count  Dtype         \n",
      "---  ------                   --------------  -----         \n",
      " 0   BUILDING ID              5769 non-null   int64         \n",
      " 1   REGISTRATION ID          5769 non-null   int64         \n",
      " 2   BOROUGH                  5769 non-null   object        \n",
      " 3   NUMBER                   5769 non-null   object        \n",
      " 4   STREET                   5769 non-null   object        \n",
      " 5   VACATE ORDER NUMBER      5769 non-null   int64         \n",
      " 6   PRIMARY VACATE REASON    5769 non-null   object        \n",
      " 7   VACATE TYPE              5769 non-null   object        \n",
      " 8   VACATE EFFECTIVE DATE    5769 non-null   datetime64[ns]\n",
      " 9   RESCIND DATE             2269 non-null   datetime64[ns]\n",
      " 10  NUMBER OF VACATED UNITS  5769 non-null   int64         \n",
      " 11  POSTCODE                 5768 non-null   float64       \n",
      " 12  LATITUDE                 5768 non-null   float64       \n",
      " 13  LONGITUDE                5768 non-null   float64       \n",
      " 14  COMMUNITY BOARD          5768 non-null   float64       \n",
      " 15  COUNCIL DISTRICT         5768 non-null   float64       \n",
      " 16  CENSUS TRACT             5768 non-null   float64       \n",
      " 17  BIN                      5757 non-null   float64       \n",
      " 18  BBL                      5757 non-null   float64       \n",
      " 19  NTA                      5768 non-null   object        \n",
      "dtypes: datetime64[ns](2), float64(8), int64(4), object(6)\n",
      "memory usage: 946.5+ KB\n"
     ]
    }
   ],
   "source": [
    "df_hpd['VACATE EFFECTIVE DATE']=pd.to_datetime(df_hpd['VACATE EFFECTIVE DATE'])\n",
    "df_hpd['RESCIND DATE']=pd.to_datetime(df_hpd['RESCIND DATE'])\n",
    "df_hpd.info()"
   ]
  },
  {
   "cell_type": "code",
   "execution_count": 131,
   "id": "5c7843a9",
   "metadata": {},
   "outputs": [
    {
     "data": {
      "text/plain": [
       "BK    1812\n",
       "BX    1656\n",
       "QN    1321\n",
       "MN     775\n",
       "SI     205\n",
       "Name: BOROUGH, dtype: int64"
      ]
     },
     "execution_count": 131,
     "metadata": {},
     "output_type": "execute_result"
    }
   ],
   "source": [
    "df_hpd['BOROUGH'].value_counts()"
   ]
  },
  {
   "cell_type": "code",
   "execution_count": 132,
   "id": "ee72ae99",
   "metadata": {},
   "outputs": [
    {
     "data": {
      "text/plain": [
       "BK    0.314093\n",
       "BX    0.287051\n",
       "QN    0.228982\n",
       "MN    0.134339\n",
       "SI    0.035535\n",
       "Name: BOROUGH, dtype: float64"
      ]
     },
     "execution_count": 132,
     "metadata": {},
     "output_type": "execute_result"
    }
   ],
   "source": [
    "df_hpd['BOROUGH'].value_counts(normalize=True)"
   ]
  },
  {
   "cell_type": "markdown",
   "id": "619bbf31",
   "metadata": {},
   "source": [
    "Brooklyn, Bronx, and Queens has the most orders of repair/vacates"
   ]
  },
  {
   "cell_type": "code",
   "execution_count": 77,
   "id": "460bfad8",
   "metadata": {},
   "outputs": [
    {
     "name": "stdout",
     "output_type": "stream",
     "text": [
      "BOROUGH\n",
      "BK    2.266004\n",
      "BX    2.471618\n",
      "MN    3.291613\n",
      "QN    1.675246\n",
      "SI    1.619512\n",
      "Name: NUMBER OF VACATED UNITS, dtype: float64\n"
     ]
    }
   ],
   "source": [
    "vacated_sum=df_hpd.groupby('BOROUGH')['NUMBER OF VACATED UNITS'].mean()\n",
    "print(vacated_sum)"
   ]
  },
  {
   "cell_type": "code",
   "execution_count": 134,
   "id": "0f5f6150",
   "metadata": {},
   "outputs": [
    {
     "data": {
      "image/png": "[encoded data removed]",
      "text/plain": [
       "<Figure size 1440x360 with 1 Axes>"
      ]
     },
     "metadata": {},
     "output_type": "display_data"
    }
   ],
   "source": [
    "vacated_sum=df_hpd.groupby('BOROUGH')['NUMBER OF VACATED UNITS'].mean()\n",
    "vacated_sum.plot(kind='bar', title= 'Average Vacated Units' )\n",
    "plt.show()"
   ]
  },
  {
   "cell_type": "code",
   "execution_count": 135,
   "id": "06a1eecb",
   "metadata": {},
   "outputs": [
    {
     "data": {
      "text/plain": [
       "BOROUGH  PRIMARY VACATE REASON\n",
       "BX       Fire Damage              958\n",
       "QN       Illegal Occupancy        914\n",
       "BK       Fire Damage              903\n",
       "         Illegal Occupancy        746\n",
       "MN       Fire Damage              650\n",
       "BX       Illegal Occupancy        546\n",
       "QN       Fire Damage              357\n",
       "BK       Habitability             163\n",
       "BX       Habitability             152\n",
       "SI       Illegal Occupancy        147\n",
       "MN       Illegal Occupancy         72\n",
       "         Habitability              53\n",
       "QN       Habitability              50\n",
       "SI       Fire Damage               30\n",
       "         Habitability              28\n",
       "dtype: int64"
      ]
     },
     "execution_count": 135,
     "metadata": {},
     "output_type": "execute_result"
    }
   ],
   "source": [
    "df_hpd[['BOROUGH','PRIMARY VACATE REASON']].value_counts()"
   ]
  },
  {
   "cell_type": "markdown",
   "id": "95ec655c",
   "metadata": {},
   "source": [
    "Comparing Borough with average vacants Manhattan averages the highest, followed by Bronx, Brooklyn, Queens, and Staten Island are close in averages"
   ]
  },
  {
   "cell_type": "code",
   "execution_count": 136,
   "id": "3c27c82a",
   "metadata": {},
   "outputs": [
    {
     "data": {
      "text/plain": [
       "Fire Damage          2898\n",
       "Illegal Occupancy    2425\n",
       "Habitability          446\n",
       "Name: PRIMARY VACATE REASON, dtype: int64"
      ]
     },
     "execution_count": 136,
     "metadata": {},
     "output_type": "execute_result"
    }
   ],
   "source": [
    "df_hpd['PRIMARY VACATE REASON'].value_counts()"
   ]
  },
  {
   "cell_type": "markdown",
   "id": "d0de5614",
   "metadata": {},
   "source": [
    "Highest of primary reason for vacates are Fire Damage and Illegal Occupancy. Borough with the most Fire Damage are Bronx, Brooklyn, Manhatten and Queens. Illegal Occupancy leaders are Queen, Brooklyn,and Bronx."
   ]
  },
  {
   "cell_type": "code",
   "execution_count": 137,
   "id": "db66d9e6",
   "metadata": {},
   "outputs": [
    {
     "data": {
      "text/plain": [
       "Fire Damage          0.50234\n",
       "Illegal Occupancy    0.42035\n",
       "Habitability         0.07731\n",
       "Name: PRIMARY VACATE REASON, dtype: float64"
      ]
     },
     "execution_count": 137,
     "metadata": {},
     "output_type": "execute_result"
    }
   ],
   "source": [
    "df_hpd['PRIMARY VACATE REASON'].value_counts(normalize=True)"
   ]
  },
  {
   "cell_type": "markdown",
   "id": "e0bc2ff5",
   "metadata": {},
   "source": [
    "52% of orders for repairs and vacates are due to fires, 42% Illegal Occupancy, and 8% Habitability"
   ]
  },
  {
   "cell_type": "code",
   "execution_count": 138,
   "id": "7f9642b8",
   "metadata": {},
   "outputs": [
    {
     "data": {
      "text/plain": [
       "Partial            0.882302\n",
       "Entire Building    0.117698\n",
       "Name: VACATE TYPE, dtype: float64"
      ]
     },
     "execution_count": 138,
     "metadata": {},
     "output_type": "execute_result"
    }
   ],
   "source": [
    "df_hpd['VACATE TYPE'].value_counts(normalize=True)"
   ]
  },
  {
   "cell_type": "markdown",
   "id": "650a3b1d",
   "metadata": {},
   "source": [
    "88% of buildings are partial vacate or need repairs, and 11% of entire building "
   ]
  },
  {
   "cell_type": "code",
   "execution_count": 127,
   "id": "c599ffba",
   "metadata": {},
   "outputs": [
    {
     "data": {
      "text/plain": [
       "COMMUNITY BOARD     18.0\n",
       "COUNCIL DISTRICT    51.0\n",
       "dtype: float64"
      ]
     },
     "execution_count": 127,
     "metadata": {},
     "output_type": "execute_result"
    }
   ],
   "source": [
    "df_hpd[['COMMUNITY BOARD','COUNCIL DISTRICT']].max()"
   ]
  },
  {
   "cell_type": "code",
   "execution_count": 139,
   "id": "7e8d4584",
   "metadata": {},
   "outputs": [
    {
     "data": {
      "text/plain": [
       "COMMUNITY BOARD     1.0\n",
       "COUNCIL DISTRICT    1.0\n",
       "dtype: float64"
      ]
     },
     "execution_count": 139,
     "metadata": {},
     "output_type": "execute_result"
    }
   ],
   "source": [
    "df_hpd[['COMMUNITY BOARD','COUNCIL DISTRICT']].min()"
   ]
  },
  {
   "cell_type": "code",
   "execution_count": null,
   "id": "4df283a9",
   "metadata": {},
   "outputs": [],
   "source": []
  },
  {
   "cell_type": "code",
   "execution_count": 140,
   "id": "3779f222",
   "metadata": {},
   "outputs": [],
   "source": [
    "df_hpd['rescind_diff']=df_hpd['RESCIND DATE'] - df_hpd['VACATE EFFECTIVE DATE']"
   ]
  },
  {
   "cell_type": "code",
   "execution_count": 56,
   "id": "12f49e1b",
   "metadata": {},
   "outputs": [
    {
     "data": {
      "text/plain": [
       "count                           2269\n",
       "mean     463 days 02:28:30.356985456\n",
       "std      600 days 13:16:35.232616704\n",
       "min             -3205 days +00:00:00\n",
       "25%                105 days 00:00:00\n",
       "50%                233 days 00:00:00\n",
       "75%                553 days 00:00:00\n",
       "max               3679 days 00:00:00\n",
       "Name: rescind_diff, dtype: object"
      ]
     },
     "execution_count": 56,
     "metadata": {},
     "output_type": "execute_result"
    }
   ],
   "source": [
    "df_hpd['rescind_diff'].describe()"
   ]
  },
  {
   "cell_type": "code",
   "execution_count": 141,
   "id": "24e06752",
   "metadata": {},
   "outputs": [
    {
     "data": {
      "image/png": "[encoded data removed]",
      "text/plain": [
       "<Figure size 1440x360 with 1 Axes>"
      ]
     },
     "metadata": {},
     "output_type": "display_data"
    }
   ],
   "source": [
    "date_by_diff=df_hpd.groupby('BOROUGH')['rescind_diff'].max()\n",
    "date_by_diff.plot(kind='line', title= 'Average Difference in Rescind and Effective Date')\n",
    "plt.show()"
   ]
  },
  {
   "cell_type": "code",
   "execution_count": 142,
   "id": "e0032a30",
   "metadata": {},
   "outputs": [
    {
     "data": {
      "image/png": "[encoded data removed]",
      "text/plain": [
       "<Figure size 1440x360 with 1 Axes>"
      ]
     },
     "metadata": {},
     "output_type": "display_data"
    }
   ],
   "source": [
    "date_by_diff=df_hpd.groupby('BOROUGH')['rescind_diff'].mean()\n",
    "date_by_diff.plot(kind='line', title= 'Average Difference in Rescind and Effective Date')\n",
    "plt.show()"
   ]
  },
  {
   "cell_type": "markdown",
   "id": "4d5d9f9e",
   "metadata": {},
   "source": [
    "Manhattan has the lowest average difference from effective date to the rescind date, followed by Bronx, and Brooklyn. Saten Island and Queens has the highest difference. "
   ]
  },
  {
   "cell_type": "code",
   "execution_count": 143,
   "id": "4076071d",
   "metadata": {},
   "outputs": [
    {
     "data": {
      "image/png": "[encoded data removed]",
      "text/plain": [
       "<Figure size 1440x360 with 1 Axes>"
      ]
     },
     "metadata": {},
     "output_type": "display_data"
    }
   ],
   "source": [
    "comm_group=df_hpd.groupby('BOROUGH')['COMMUNITY BOARD'].mean().sort_values(ascending=False)\n",
    "comm_group.plot(kind='bar', title='Average of Community Board')\n",
    "plt.show()"
   ]
  },
  {
   "cell_type": "markdown",
   "id": "1d10bd4f",
   "metadata": {},
   "source": [
    "Brooklyn has the largest location of community boards, follow by Queens and then Manhattan"
   ]
  },
  {
   "cell_type": "code",
   "execution_count": 144,
   "id": "c2017820",
   "metadata": {},
   "outputs": [
    {
     "data": {
      "image/png": "[encoded data removed]",
      "text/plain": [
       "<Figure size 1440x360 with 1 Axes>"
      ]
     },
     "metadata": {},
     "output_type": "display_data"
    }
   ],
   "source": [
    "comm_group=df_hpd.groupby('BOROUGH')['COUNCIL DISTRICT'].mean().sort_values(ascending=False)\n",
    "comm_group.plot(kind='bar', title='Average of Council Distrct')\n",
    "plt.show()"
   ]
  },
  {
   "cell_type": "markdown",
   "id": "8bf97e51",
   "metadata": {},
   "source": [
    "Staten Island has the largest amount of Council District locations follow by Brooklyn and then Queens"
   ]
  },
  {
   "cell_type": "code",
   "execution_count": null,
   "id": "d3be90ec",
   "metadata": {},
   "outputs": [],
   "source": []
  },
  {
   "cell_type": "code",
   "execution_count": 145,
   "id": "bf804364",
   "metadata": {},
   "outputs": [
    {
     "data": {
      "text/plain": [
       "Timestamp('2012-01-05 00:00:00')"
      ]
     },
     "execution_count": 145,
     "metadata": {},
     "output_type": "execute_result"
    }
   ],
   "source": [
    "df_hpd['VACATE EFFECTIVE DATE'].min()"
   ]
  },
  {
   "cell_type": "code",
   "execution_count": 146,
   "id": "9ffe6d45",
   "metadata": {},
   "outputs": [
    {
     "data": {
      "text/plain": [
       "Timestamp('2008-08-16 00:00:00')"
      ]
     },
     "execution_count": 146,
     "metadata": {},
     "output_type": "execute_result"
    }
   ],
   "source": [
    "df_hpd['RESCIND DATE'].min()"
   ]
  },
  {
   "cell_type": "code",
   "execution_count": 147,
   "id": "3e109822",
   "metadata": {},
   "outputs": [
    {
     "data": {
      "text/plain": [
       "Timestamp('2022-03-09 00:00:00')"
      ]
     },
     "execution_count": 147,
     "metadata": {},
     "output_type": "execute_result"
    }
   ],
   "source": [
    "df_hpd['RESCIND DATE'].max()"
   ]
  },
  {
   "cell_type": "code",
   "execution_count": 148,
   "id": "680af0ab",
   "metadata": {},
   "outputs": [
    {
     "data": {
      "image/png": "[encoded data removed]",
      "text/plain": [
       "<Figure size 1440x360 with 1 Axes>"
      ]
     },
     "metadata": {},
     "output_type": "display_data"
    }
   ],
   "source": [
    "damage_group=df_hpd.groupby('PRIMARY VACATE REASON')['BOROUGH'].value_counts().sort_values(ascending=False)\n",
    "damage_group.plot(kind='bar')\n",
    "plt.show()"
   ]
  },
  {
   "cell_type": "code",
   "execution_count": 178,
   "id": "e7a93664",
   "metadata": {},
   "outputs": [
    {
     "data": {
      "text/plain": [
       "BOROUGH  PRIMARY VACATE REASON  VACATE TYPE  rescind_diff\n",
       "QN       Illegal Occupancy      Partial      2 days          9\n",
       "BX       Fire Damage            Partial      92 days         6\n",
       "QN       Fire Damage            Partial      35 days         6\n",
       "BX       Fire Damage            Partial      119 days        5\n",
       "                                             20 days         5\n",
       "                                             104 days        5\n",
       "                                             35 days         5\n",
       "BK       Fire Damage            Partial      151 days        5\n",
       "BX       Fire Damage            Partial      53 days         4\n",
       "MN       Fire Damage            Partial      41 days         4\n",
       "                                             84 days         4\n",
       "BX       Fire Damage            Partial      57 days         4\n",
       "                                             76 days         4\n",
       "                                             64 days         4\n",
       "                                             83 days         4\n",
       "dtype: int64"
      ]
     },
     "execution_count": 178,
     "metadata": {},
     "output_type": "execute_result"
    }
   ],
   "source": [
    "df_hpd[['BOROUGH','PRIMARY VACATE REASON','VACATE TYPE','rescind_diff']].value_counts().sort_values(ascending=False).head(15)\n"
   ]
  },
  {
   "cell_type": "code",
   "execution_count": null,
   "id": "9201c8e8",
   "metadata": {},
   "outputs": [],
   "source": []
  }
 ],
 "metadata": {
  "kernelspec": {
   "display_name": "Python 3 (ipykernel)",
   "language": "python",
   "name": "python3"
  },
  "language_info": {
   "codemirror_mode": {
    "name": "ipython",
    "version": 3
   },
   "file_extension": ".py",
   "mimetype": "text/x-python",
   "name": "python",
   "nbconvert_exporter": "python",
   "pygments_lexer": "ipython3",
   "version": "3.9.7"
  }
 },
 "nbformat": 4,
 "nbformat_minor": 5
}
